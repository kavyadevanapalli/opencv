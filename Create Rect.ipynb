{
 "cells": [
  {
   "cell_type": "code",
   "execution_count": 1,
   "metadata": {},
   "outputs": [],
   "source": [
    "import cv2\n",
    "import numpy as np"
   ]
  },
  {
   "cell_type": "code",
   "execution_count": null,
   "metadata": {},
   "outputs": [],
   "source": [
    "camera=cv2.VideoCapture(0)\n",
    "cropping = False\n",
    "points=[]\n",
    "\n",
    "def create_rect(event, x, y, flags, param):\n",
    "    global points, cropping,count1,v_count\n",
    "    if event == cv2.EVENT_LBUTTONDOWN:\n",
    "        points=[(x, y)]\n",
    "        cropping = True\n",
    "    elif event == cv2.EVENT_LBUTTONUP:\n",
    "        points.append((x, y))\n",
    "        cropping = False\n",
    "\n",
    "cv2.namedWindow(\"drawing\")\n",
    "cv2.setMouseCallback(\"drawing\",create_rect)\n",
    "\n",
    "while True:\n",
    "    ret, frame=camera.read()\n",
    "    \n",
    "    try:\n",
    "        cv2.rectangle(frame, points[0], points[1], (0, 255, 0), 2)\n",
    "    except:\n",
    "        pass\n",
    "    \n",
    "    cv2.imshow('drawing',frame)\n",
    "    key=cv2.waitKey(1)\n",
    "    if key==ord(\"q\"):\n",
    "        break\n",
    "        \n",
    "camera.release()\n",
    "cv2.destroyAllWindows()\n"
   ]
  },
  {
   "cell_type": "code",
   "execution_count": null,
   "metadata": {},
   "outputs": [],
   "source": []
  }
 ],
 "metadata": {
  "kernelspec": {
   "display_name": "Python 3",
   "language": "python",
   "name": "python3"
  },
  "language_info": {
   "codemirror_mode": {
    "name": "ipython",
    "version": 3
   },
   "file_extension": ".py",
   "mimetype": "text/x-python",
   "name": "python",
   "nbconvert_exporter": "python",
   "pygments_lexer": "ipython3",
   "version": "3.6.10"
  }
 },
 "nbformat": 4,
 "nbformat_minor": 2
}
