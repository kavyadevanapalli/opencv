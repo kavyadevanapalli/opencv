{
 "cells": [
  {
   "cell_type": "code",
   "execution_count": 3,
   "metadata": {},
   "outputs": [],
   "source": [
    "import cv2\n",
    "import dlib"
   ]
  },
  {
   "cell_type": "code",
   "execution_count": 4,
   "metadata": {},
   "outputs": [],
   "source": [
    "# face detection \n",
    "cam = cv2.VideoCapture(0)\n",
    "face_detector = dlib.get_frontal_face_detector()\n",
    "\n",
    "while True:\n",
    "    ret,frame = cam.read()\n",
    "    gray = cv2.cvtColor(frame, cv2.COLOR_BGR2GRAY)\n",
    "    faces = face_detector(gray)\n",
    "    for face in faces:\n",
    "        x1 = face.left()\n",
    "        x2 = face.right()\n",
    "        y1 = face.top()\n",
    "        y2 = face.bottom()\n",
    "        cv2.rectangle(frame, (x1,y1), (x2,y2), (0,0,255),3)\n",
    "    cv2.imshow(\"face detector\", frame)\n",
    "    key = cv2.waitKey(1)\n",
    "    if key == ord(\"q\"):\n",
    "        break\n",
    "cam.release()\n",
    "cv2.destroyAllWindows()"
   ]
  },
  {
   "cell_type": "code",
   "execution_count": 11,
   "metadata": {},
   "outputs": [],
   "source": [
    "# facial land mark detector\n",
    "cam = cv2.VideoCapture(0)\n",
    "\n",
    "face_detector = dlib.get_frontal_face_detector()\n",
    "landmark_finder = dlib.shape_predictor(\"shape_predictor_68_face_landmarks.dat\")\n",
    "while True:\n",
    "    ret, frame = cam.read()\n",
    "    gray = cv2.cvtColor(frame, cv2.COLOR_BGR2GRAY)\n",
    "    faces = face_detector(gray)\n",
    "    for face in faces:\n",
    "        x1 = face.left()\n",
    "        x2 = face.right()\n",
    "        y1 = face.top()\n",
    "        y2 = face.bottom()\n",
    "        cv2.rectangle(frame, (x1,y1), (x2,y2), (0,0,255), 2)\n",
    "        landmark = landmark_finder(gray,face)\n",
    "        for n in range(0,68):\n",
    "            x = landmark.part(n).x\n",
    "            y = landmark.part(n).y\n",
    "            cv2.circle(frame, (x,y), 2, (0,255,0), -1)\n",
    "    cv2.imshow(\"facial landmarks\", frame)\n",
    "    key = cv2.waitKey(1)\n",
    "    if key == ord(\"q\"):\n",
    "        break\n",
    "cam.release()\n",
    "cv2.destroyAllWindows()"
   ]
  },
  {
   "cell_type": "code",
   "execution_count": null,
   "metadata": {},
   "outputs": [],
   "source": []
  }
 ],
 "metadata": {
  "kernelspec": {
   "display_name": "Python 3",
   "language": "python",
   "name": "python3"
  },
  "language_info": {
   "codemirror_mode": {
    "name": "ipython",
    "version": 3
   },
   "file_extension": ".py",
   "mimetype": "text/x-python",
   "name": "python",
   "nbconvert_exporter": "python",
   "pygments_lexer": "ipython3",
   "version": "3.6.10"
  }
 },
 "nbformat": 4,
 "nbformat_minor": 4
}
