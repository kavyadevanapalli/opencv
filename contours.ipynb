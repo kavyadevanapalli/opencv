{
 "cells": [
  {
   "cell_type": "code",
   "execution_count": 1,
   "metadata": {},
   "outputs": [],
   "source": [
    "import cv2\n",
    "import numpy as np"
   ]
  },
  {
   "cell_type": "code",
   "execution_count": 13,
   "metadata": {},
   "outputs": [
    {
     "data": {
      "text/plain": [
       "-1"
      ]
     },
     "execution_count": 13,
     "metadata": {},
     "output_type": "execute_result"
    }
   ],
   "source": [
    "# find counter of image\n",
    "image = cv2.imread(\"star.png\")\n",
    "gray = cv2.cvtColor(image, cv2.COLOR_BGR2GRAY)\n",
    "ret, frame = cv2.threshold(gray,127,255,0)\n",
    "countr, hier = cv2.findContours(frame, cv2.RETR_TREE,cv2.CHAIN_APPROX_SIMPLE)\n",
    "\n",
    "count = countr[0]\n",
    "output = cv2.drawContours(image, count, -1, (0,0,255), 3)\n",
    "cv2.imshow(\"output\", output)\n",
    "cv2.waitKey(0)"
   ]
  },
  {
   "cell_type": "code",
   "execution_count": 14,
   "metadata": {},
   "outputs": [
    {
     "data": {
      "text/plain": [
       "-1"
      ]
     },
     "execution_count": 14,
     "metadata": {},
     "output_type": "execute_result"
    }
   ],
   "source": [
    "# draw reactangle around the image\n",
    "image = cv2.imread(\"star.png\")\n",
    "gray = cv2.cvtColor(image, cv2.COLOR_BGR2GRAY)\n",
    "ret, frame = cv2.threshold(gray, 127, 255, 0)\n",
    "countr, hier = cv2.findContours(frame, cv2.RETR_TREE, cv2.CHAIN_APPROX_SIMPLE)\n",
    "count = countr[0]\n",
    "x,y,w,h=cv2.boundingRect(count)\n",
    "cv2.rectangle(image,(x,y),(x+w,y+h),(0,255,0),3)\n",
    "cv2.imshow(\"output\", image)\n",
    "cv2.waitKey(0)"
   ]
  },
  {
   "cell_type": "code",
   "execution_count": 20,
   "metadata": {},
   "outputs": [
    {
     "data": {
      "text/plain": [
       "-1"
      ]
     },
     "execution_count": 20,
     "metadata": {},
     "output_type": "execute_result"
    }
   ],
   "source": [
    "# mask conversion\n",
    "image = cv2.imread(\"circle.png\")\n",
    "gray = cv2.cvtColor(image, cv2.COLOR_BGR2GRAY)\n",
    "ret, thresh = cv2.threshold(gray, 127,255, cv2.RETR_TREE, cv2.CHAIN_APPROX_SIMPLE)\n",
    "mask = cv2.bitwise_not(thresh)\n",
    "cv2.imshow(\"original\", image)\n",
    "cv2.imshow(\"output\", mask)\n",
    "cv2.waitKey(0)"
   ]
  },
  {
   "cell_type": "code",
   "execution_count": 22,
   "metadata": {},
   "outputs": [],
   "source": [
    "import cv2\n",
    "from tkinter import *\n",
    "from PIL import Image,ImageTk"
   ]
  },
  {
   "cell_type": "code",
   "execution_count": 23,
   "metadata": {},
   "outputs": [],
   "source": [
    "# video processing with gui\n",
    "camera=cv2.VideoCapture(0)\n",
    "\n",
    "master=Tk()\n",
    "master.title('computer vision')\n",
    "master.maxsize(width=640,height=480)\n",
    "master.minsize(width=640,height=480)\n",
    "\n",
    "tk_frame=Frame(master,width=640,height=480)\n",
    "tk_frame.grid(row=0,column=0)\n",
    "\n",
    "lb=Label(tk_frame)\n",
    "lb.grid(row=0,column=0)\n",
    "\n",
    "def video_frame():\n",
    "    ret, frame=camera.read()\n",
    "    conversion=cv2.cvtColor(frame,cv2.COLOR_BGR2RGBA)\n",
    "    process_img=Image.fromarray(conversion)\n",
    "    \n",
    "    imgtk=ImageTk.PhotoImage(image=process_img)\n",
    "    lb.imgtk=imgtk\n",
    "    lb.configure(image=imgtk)\n",
    "    lb.after(1,video_frame)\n",
    "\n",
    "video_frame()\n",
    "master.mainloop()"
   ]
  },
  {
   "cell_type": "code",
   "execution_count": 24,
   "metadata": {},
   "outputs": [],
   "source": [
    "camera.release()"
   ]
  },
  {
   "cell_type": "code",
   "execution_count": null,
   "metadata": {},
   "outputs": [],
   "source": []
  }
 ],
 "metadata": {
  "kernelspec": {
   "display_name": "Python 3",
   "language": "python",
   "name": "python3"
  },
  "language_info": {
   "codemirror_mode": {
    "name": "ipython",
    "version": 3
   },
   "file_extension": ".py",
   "mimetype": "text/x-python",
   "name": "python",
   "nbconvert_exporter": "python",
   "pygments_lexer": "ipython3",
   "version": "3.6.10"
  }
 },
 "nbformat": 4,
 "nbformat_minor": 4
}
