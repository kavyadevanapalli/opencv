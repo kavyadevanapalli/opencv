{
 "cells": [
  {
   "cell_type": "code",
   "execution_count": 1,
   "metadata": {},
   "outputs": [],
   "source": [
    "import cv2\n",
    "import numpy as np"
   ]
  },
  {
   "cell_type": "code",
   "execution_count": 4,
   "metadata": {},
   "outputs": [
    {
     "data": {
      "text/plain": [
       "True"
      ]
     },
     "execution_count": 4,
     "metadata": {},
     "output_type": "execute_result"
    }
   ],
   "source": [
    "# write image \n",
    "cv2.imwrite(\"other.png\", cat_image)"
   ]
  },
  {
   "cell_type": "code",
   "execution_count": 10,
   "metadata": {},
   "outputs": [],
   "source": [
    "# video processing\n",
    "video = cv2.VideoCapture(\"video.mp4\")\n",
    "while True:\n",
    "    ret, frame = video.read()\n",
    "    cv2.imshow(\"video processing\", frame)\n",
    "    key = cv2.waitKey(1)\n",
    "    if key == ord(\"q\"):\n",
    "        break\n",
    "video.release()\n",
    "cv2.destroyAllWindows()"
   ]
  },
  {
   "cell_type": "code",
   "execution_count": 8,
   "metadata": {},
   "outputs": [],
   "source": [
    "# live video processing\n",
    "camera = cv2.VideoCapture(0)\n",
    "while True:\n",
    "    ret, frame = camera.read()\n",
    "    cv2.imshow(\"live video camera\", frame)\n",
    "    key = cv2.waitKey(1)\n",
    "    if key == ord(\"q\"):\n",
    "        break\n",
    "camera.release()\n",
    "cv2.destroyAllWindows()"
   ]
  },
  {
   "cell_type": "code",
   "execution_count": 2,
   "metadata": {},
   "outputs": [],
   "source": [
    "## to capture live video frame\n",
    "camera = cv2.VideoCapture(0)\n",
    "while True:\n",
    "    ret, frame = camera.read()\n",
    "    cv2.imshow(\"live video camera\", frame)\n",
    "    key = cv2.waitKey(1)\n",
    "    if key == ord(\"q\"):\n",
    "        break\n",
    "    if key == ord(\"c\"):\n",
    "        cv2.imwrite(\"captured frame.png\",frame)\n",
    "camera.release()\n",
    "cv2.destroyAllWindows()\n"
   ]
  },
  {
   "cell_type": "code",
   "execution_count": 10,
   "metadata": {},
   "outputs": [],
   "source": [
    "## to record live video\n",
    "\n",
    "camera = cv2.VideoCapture(0)\n",
    "forcc = cv2.VideoWriter_fourcc(*\"MJPG\")\n",
    "video_taker = cv2.VideoWriter(\"recorded video.mp4\", forcc,25, (640,480))\n",
    "\n",
    "while True:\n",
    "    ret,frame = camera.read()\n",
    "    cv2.imshow(\"live video\", frame)\n",
    "    video_taker.write(frame)\n",
    "    key = cv2.waitKey(1)\n",
    "    if key == ord(\"q\"):\n",
    "        break\n",
    "camera.release()\n",
    "video_taker.release()\n",
    "cv2.destroyAllWindows()"
   ]
  },
  {
   "cell_type": "code",
   "execution_count": 18,
   "metadata": {},
   "outputs": [],
   "source": [
    "# setting camera resolution\n",
    "\n",
    "camera = cv2.VideoCapture(0)\n",
    "camera.set(cv2.CAP_PROP_FRAME_HEIGHT, 1250)\n",
    "camera.set(cv2.CAP_PROP_FRAME_WIDTH, 450)\n",
    "while True:\n",
    "    ret,frame = camera.read()\n",
    "    cv2.imshow(\"live video\", frame)\n",
    "    \n",
    "    key = cv2.waitKey(1)\n",
    "    if key == ord(\"q\"):\n",
    "        break\n",
    "camera.release()\n",
    "\n",
    "cv2.destroyAllWindows()"
   ]
  },
  {
   "cell_type": "code",
   "execution_count": 25,
   "metadata": {},
   "outputs": [],
   "source": [
    "# drawing line on live video\n",
    "\n",
    "camera = cv2.VideoCapture(0)\n",
    "while True:\n",
    "    ret, frame = camera.read()\n",
    "    \n",
    "    cv2.line(frame, (10,10), (500,500), (0,0,255), 2)\n",
    "    cv2.imshow(\"live video camera\", frame)\n",
    "    key = cv2.waitKey(1)\n",
    "    if key == ord(\"q\"):\n",
    "        break\n",
    "    \n",
    "camera.release()\n",
    "cv2.destroyAllWindows()\n",
    "\n"
   ]
  },
  {
   "cell_type": "code",
   "execution_count": 28,
   "metadata": {},
   "outputs": [],
   "source": [
    "# drawing rectangle on live video\n",
    "\n",
    "camera = cv2.VideoCapture(0)\n",
    "while True:\n",
    "    ret,frame = camera.read()\n",
    "    \n",
    "    cv2.rectangle(frame, (50,50),(150,150), (0,255,0),2)\n",
    "    cv2.imshow(\"live video\", frame)\n",
    "    key = cv2.waitKey(1)\n",
    "    if key == ord(\"q\"):\n",
    "        break\n",
    "camera.release()\n",
    "cv2.destroyAllWindows()"
   ]
  },
  {
   "cell_type": "code",
   "execution_count": 31,
   "metadata": {},
   "outputs": [],
   "source": [
    "# drawing circle\n",
    "camera = cv2.VideoCapture(0)\n",
    "while True:\n",
    "    ret,frame = camera.read()\n",
    "    \n",
    "    cv2.circle(frame, (250,250),100, (255,0,0),2)\n",
    "    cv2.imshow(\"live video\", frame)\n",
    "    key = cv2.waitKey(1)\n",
    "    if key == ord(\"q\"):\n",
    "        break\n",
    "camera.release()\n",
    "cv2.destroyAllWindows()"
   ]
  },
  {
   "cell_type": "code",
   "execution_count": 32,
   "metadata": {},
   "outputs": [],
   "source": [
    "# adding text in frame\n",
    "\n",
    "camera = cv2.VideoCapture(0)\n",
    "while True:\n",
    "    ret,frame = camera.read()\n",
    "    \n",
    "    cv2.putText(frame, \"Kavya\", (250,250),cv2.FONT_ITALIC, 4, (0,0,255), 3)\n",
    "    cv2.imshow(\"live video\", frame)\n",
    "    key = cv2.waitKey(1)\n",
    "    if key == ord(\"q\"):\n",
    "        break\n",
    "camera.release()\n",
    "cv2.destroyAllWindows()"
   ]
  },
  {
   "cell_type": "code",
   "execution_count": 5,
   "metadata": {},
   "outputs": [
    {
     "name": "stdout",
     "output_type": "stream",
     "text": [
      "original image size:  (523, 500, 3)\n",
      "modified image size:  (600, 600, 3)\n"
     ]
    }
   ],
   "source": [
    "# resizing the image\n",
    "\n",
    "image = cv2.imread(\"cat.jpg\")\n",
    "original_size = image.shape\n",
    "modified_image = cv2.resize(image, (600,600))\n",
    "modified_image_size = modified_image.shape\n",
    "\n",
    "cv2.imshow(\"original image\", image)\n",
    "cv2.imshow(\"modified image\", modified_image)\n",
    "cv2.waitKey(0)\n",
    "\n",
    "print(\"original image size: \", original_size)\n",
    "print(\"modified image size: \", modified_image_size)"
   ]
  },
  {
   "cell_type": "code",
   "execution_count": 4,
   "metadata": {},
   "outputs": [],
   "source": [
    "## resizing the live video\n",
    "\n",
    "cam = cv2.VideoCapture(0)\n",
    "\n",
    "while True:\n",
    "    ret, frame = cam.read()\n",
    "    \n",
    "    resize_frame = cv2.resize(frame, (700,700))\n",
    "    cv2.imshow(\"live video\", frame)\n",
    "    cv2.imshow(\"resized video\", resize_frame)\n",
    "    key = cv2.waitKey(1)\n",
    "    if key == ord(\"q\"):\n",
    "        break\n",
    "\n",
    "original_height, original_width = (cam.get(cv2.CAP_PROP_FRAME_HEIGHT ),cam.get(cv2.CAP_PROP_FRAME_WIDTH ))\n",
    "\n",
    "cam.release()\n",
    "cv2.destroyAllWindows()"
   ]
  },
  {
   "cell_type": "code",
   "execution_count": 8,
   "metadata": {},
   "outputs": [],
   "source": [
    "# fliping the video\n",
    "\n",
    "cam = cv2.VideoCapture(0)\n",
    "\n",
    "while True:\n",
    "    ret, frame = cam.read()\n",
    "    \n",
    "    flip_function = cv2.flip(frame, -1)    #0 for fliping around X axis, 1 for fliping around y axis, -1 for fliping around both\n",
    "    cv2.imshow(\"live video\", frame)\n",
    "    cv2.imshow(\"fliped video\", flip_function)\n",
    "    key = cv2.waitKey(1)\n",
    "    if key == ord(\"q\"):\n",
    "        break\n",
    "\n",
    "\n",
    "cam.release()\n",
    "cv2.destroyAllWindows()"
   ]
  },
  {
   "cell_type": "code",
   "execution_count": 9,
   "metadata": {},
   "outputs": [
    {
     "data": {
      "text/plain": [
       "-1"
      ]
     },
     "execution_count": 9,
     "metadata": {},
     "output_type": "execute_result"
    }
   ],
   "source": [
    "## rotating the image\n",
    "image = cv2.imread(\"cat.jpg\")\n",
    "rotate = cv2.rotate(image, cv2.ROTATE_90_CLOCKWISE)\n",
    "\n",
    "\n",
    "cv2.imshow(\"original image\", image)\n",
    "cv2.imshow(\"rotated image\", rotate)\n",
    "cv2.waitKey(0)\n"
   ]
  },
  {
   "cell_type": "code",
   "execution_count": 2,
   "metadata": {},
   "outputs": [
    {
     "data": {
      "text/plain": [
       "-1"
      ]
     },
     "execution_count": 2,
     "metadata": {},
     "output_type": "execute_result"
    }
   ],
   "source": [
    "# merging two images\n",
    "image1 = cv2.imread(\"img1.png\")\n",
    "image2 = cv2.imread(\"img2.png\")\n",
    "\n",
    "# both should of same shape\n",
    "image1 = cv2.resize(image1, (300,300))\n",
    "image2 = cv2.resize(image2, (300,300))\n",
    "merge = cv2.addWeighted(image1, 0.2, image2, 0.4,10)\n",
    "cv2.imshow(\"merged image\", merge)\n",
    "cv2.waitKey(0)"
   ]
  },
  {
   "cell_type": "code",
   "execution_count": 8,
   "metadata": {},
   "outputs": [
    {
     "data": {
      "text/plain": [
       "-1"
      ]
     },
     "execution_count": 8,
     "metadata": {},
     "output_type": "execute_result"
    }
   ],
   "source": [
    "# translation of image\n",
    "\n",
    "image = cv2.imread(\"cat.jpg\")\n",
    "kernel = np.float32([[1,0,100],[0,1,100]])\n",
    "transformed = cv2.warpAffine(image, kernel, image.shape[:2])\n",
    "cv2.imshow(\"original image\", image)\n",
    "cv2.imshow(\"transformed image\", transformed)\n",
    "cv2.waitKey(0)"
   ]
  },
  {
   "cell_type": "code",
   "execution_count": 10,
   "metadata": {},
   "outputs": [],
   "source": [
    "## applying filter on video\n",
    "\n",
    "camera = cv2.VideoCapture(0)\n",
    "while True:\n",
    "    ret, frame = camera.read()\n",
    "    filters = cv2.cvtColor(frame, cv2.COLOR_BGR2GRAY)\n",
    "    cv2.imshow(\"live video camera\", frame)\n",
    "    cv2.imshow(\"filtered\", filters)\n",
    "    key = cv2.waitKey(1)\n",
    "    if key == ord(\"q\"):\n",
    "        break\n",
    "camera.release()\n",
    "cv2.destroyAllWindows()"
   ]
  },
  {
   "cell_type": "code",
   "execution_count": 12,
   "metadata": {},
   "outputs": [
    {
     "data": {
      "text/plain": [
       "-1"
      ]
     },
     "execution_count": 12,
     "metadata": {},
     "output_type": "execute_result"
    }
   ],
   "source": [
    "# applying filter on image\n",
    "cat_image = cv2.imread(\"cat.jpg\")\n",
    "\n",
    "filtered = cv2.cvtColor(cat_image, cv2.COLOR_BGR2HLS)\n",
    "\n",
    "cv2.imshow(\"image\", cat_image)\n",
    "cv2.imshow(\"filtered image\", filtered)\n",
    "cv2.waitKey(0)\n"
   ]
  },
  {
   "cell_type": "code",
   "execution_count": 10,
   "metadata": {},
   "outputs": [
    {
     "name": "stdout",
     "output_type": "stream",
     "text": [
      "250 387\n",
      "164 165\n",
      "487 165\n"
     ]
    }
   ],
   "source": [
    "# mouse event on live video\n",
    "# displaying position when we click leftbotton\n",
    "\n",
    "def mouse_event(event, x, y, flags, param):\n",
    "    if event == cv2.EVENT_LBUTTONDOWN:\n",
    "        print(x,y)\n",
    "\n",
    "cam = cv2.VideoCapture(0)\n",
    "\n",
    "cv2.namedWindow(\"mouse event\")\n",
    "cv2.setMouseCallback(\"mouse event\", mouse_event)\n",
    "\n",
    "while True:\n",
    "    ret,frame = cam.read()\n",
    "    cv2.imshow(\"mouse event\", frame)\n",
    "    key = cv2.waitKey(1)\n",
    "    if key == ord(\"q\"):\n",
    "        break\n",
    "        \n",
    "cam.release()\n",
    "cv2.destroyAllWindows()"
   ]
  },
  {
   "cell_type": "code",
   "execution_count": 3,
   "metadata": {},
   "outputs": [
    {
     "name": "stdout",
     "output_type": "stream",
     "text": [
      "458 11\n"
     ]
    },
    {
     "data": {
      "text/plain": [
       "-1"
      ]
     },
     "execution_count": 3,
     "metadata": {},
     "output_type": "execute_result"
    }
   ],
   "source": [
    "#mouse event on image\n",
    "# displaying position when we click leftbotton\n",
    "\n",
    "\n",
    "def mouse_event(event, x, y, flags, param):\n",
    "    if event == cv2.EVENT_LBUTTONDOWN:\n",
    "        print(x,y)\n",
    "\n",
    "cat_image = cv2.imread(\"cat.jpg\")\n",
    "cv2.namedWindow(\"mouse event\")\n",
    "cv2.setMouseCallback(\"mouse event\", mouse_event)\n",
    "\n",
    "\n",
    "cv2.imshow(\"mouse event\", cat_image)\n",
    "\n",
    "cv2.waitKey(0)"
   ]
  },
  {
   "cell_type": "code",
   "execution_count": 19,
   "metadata": {},
   "outputs": [],
   "source": [
    "# mouse event for drawing a circle on image\n",
    "\n",
    "def mouse_draw_circle(event, x,y, flags,param):\n",
    "    if event == cv2.EVENT_LBUTTONUP:\n",
    "        cv2.circle(cat_image, (x,y), 4, (0,0,255), 2)\n",
    "        \n",
    "cat_image = cv2.imread(\"cat.jpg\")\n",
    "cv2.namedWindow(\"mouse event\")\n",
    "cv2.setMouseCallback(\"mouse event\", mouse_draw_circle)\n",
    "\n",
    "while True:\n",
    "    cv2.imshow(\"mouse event\", cat_image)\n",
    "    key = cv2.waitKey(1)\n",
    "    if key == ord(\"q\"):\n",
    "        break\n",
    "cv2.destroyAllWindows()"
   ]
  },
  {
   "cell_type": "code",
   "execution_count": 32,
   "metadata": {},
   "outputs": [],
   "source": [
    "# draw rectangle with mouse event on image\n",
    "\n",
    "def mouse_draw_rectange(event, x,y,flags,param):\n",
    "    global rectangle\n",
    "    if event == cv2.EVENT_LBUTTONDOWN:\n",
    "        rectangle= [(x,y)]\n",
    "    if event == cv2.EVENT_LBUTTONUP:\n",
    "        rectangle.append((x,y))\n",
    "        cv2.rectangle(cat_image, rectangle[0], rectangle[1], (0,0,255),3)    \n",
    "    \n",
    "cat_image = cv2.imread(\"cat.jpg\")\n",
    "cv2.namedWindow(\"mouse event\")\n",
    "cv2.setMouseCallback(\"mouse event\", mouse_draw_rectange)\n",
    "\n",
    "while True:\n",
    "    cv2.imshow(\"mouse event\", cat_image)\n",
    "    key = cv2.waitKey(1)\n",
    "    if key == ord(\"q\"):\n",
    "        break\n",
    "cv2.destroyAllWindows()"
   ]
  },
  {
   "cell_type": "code",
   "execution_count": 7,
   "metadata": {},
   "outputs": [],
   "source": [
    "## free hand draw with mouse event on image\n",
    "draw = False\n",
    "def mouse_free_hand_draw(event,x,y,flags,param):\n",
    "    global draw, linepoints\n",
    "    if event == cv2.EVENT_LBUTTONDOWN:\n",
    "        draw = True\n",
    "        linepoints = [(x,y)]\n",
    "    if event == cv2.EVENT_MOUSEMOVE:\n",
    "        if draw == True:\n",
    "            cv2.circle(cat_image, (x,y), 1, (0,0,255), 2)\n",
    "    if event == cv2.EVENT_LBUTTONUP:\n",
    "        draw = False\n",
    "        linepoints.append((x,y))\n",
    "        cv2.line(cat_image, linepoints[0], linepoints[1], (0,255,1), 2)\n",
    "        \n",
    "cat_image = cv2.imread(\"cat.jpg\")\n",
    "cv2.namedWindow(\"mouse event\")\n",
    "cv2.setMouseCallback(\"mouse event\", mouse_free_hand_draw)\n",
    "\n",
    "while True:\n",
    "    cv2.imshow(\"mouse event\", cat_image)\n",
    "    key = cv2.waitKey(1)\n",
    "    if key == ord(\"q\"):\n",
    "        break\n",
    "cv2.destroyAllWindows()           "
   ]
  },
  {
   "cell_type": "code",
   "execution_count": 6,
   "metadata": {},
   "outputs": [],
   "source": [
    "## creating track bar on image\n",
    "\n",
    "image = cv2.imread(\"cat.jpg\")\n",
    "panel = np.zeros((480,640), np.uint8)\n",
    "def nothing(x):\n",
    "    pass\n",
    "\n",
    "cv2.namedWindow(\"frame\")\n",
    "cv2.createTrackbar(\"vector\", \"frame\", 100, 1000, nothing)\n",
    "\n",
    "while True:\n",
    "    cv2.imshow(\"frame\", panel)\n",
    "    key = cv2.waitKey(1)\n",
    "    if key == ord(\"q\"):\n",
    "        break\n",
    "cv2.destroyAllWindows()"
   ]
  },
  {
   "cell_type": "code",
   "execution_count": 2,
   "metadata": {},
   "outputs": [],
   "source": [
    "## creating track bar in video frame\n",
    "\n",
    "def nothing(x):\n",
    "    pass\n",
    "cam = cv2.VideoCapture(0)\n",
    "cv2.namedWindow(\"frame\")\n",
    "cv2.createTrackbar(\"vector\", \"frame\", 100, 1000, nothing)\n",
    "\n",
    "while True:\n",
    "    ret, frame = cam.read()\n",
    "    cv2.imshow(\"frame\", frame)\n",
    "    key = cv2.waitKey(1)\n",
    "    if key == ord(\"q\"):\n",
    "        break\n",
    "cv2.destroyAllWindows()"
   ]
  },
  {
   "cell_type": "code",
   "execution_count": 3,
   "metadata": {},
   "outputs": [],
   "source": [
    "cam.release()"
   ]
  },
  {
   "cell_type": "code",
   "execution_count": 3,
   "metadata": {},
   "outputs": [
    {
     "data": {
      "text/plain": [
       "-1"
      ]
     },
     "execution_count": 3,
     "metadata": {},
     "output_type": "execute_result"
    }
   ],
   "source": [
    "# canny edge detector\n",
    "\n",
    "def nothing(x):\n",
    "    pass\n",
    "\n",
    "image = cv2.imread(\"cat.jpg\")\n",
    "edge = cv2.Canny(image, 10,100)\n",
    "cv2.imshow(\"edge detection\", edge)\n",
    "cv2.waitKey(0)"
   ]
  },
  {
   "cell_type": "code",
   "execution_count": 4,
   "metadata": {},
   "outputs": [],
   "source": [
    "# canny edge detector\n",
    "def nothing(x):\n",
    "    pass\n",
    "\n",
    "image = cv2.imread(\"cat.jpg\")\n",
    "\n",
    "cv2.namedWindow(\"edge detector\")\n",
    "cv2.createTrackbar(\"vector1\", \"edge detector\", 100, 1000, nothing)\n",
    "cv2.createTrackbar(\"vector2\", \"edge detector\", 10, 1000, nothing)\n",
    "\n",
    "while True:\n",
    "    value1 = cv2.getTrackbarPos(\"vector1\", \"edge detector\")\n",
    "    value2 = cv2.getTrackbarPos(\"vector2\", \"edge detector\")\n",
    "    edge = cv2.Canny(image, value1, value2)\n",
    "    cv2.imshow(\"edge detector\", edge)\n",
    "    key = cv2.waitKey(1)\n",
    "    if key == ord(\"q\"):\n",
    "        break\n",
    "        \n",
    "cv2.destroyAllWindows()\n",
    "    "
   ]
  },
  {
   "cell_type": "code",
   "execution_count": 12,
   "metadata": {},
   "outputs": [
    {
     "data": {
      "text/plain": [
       "-1"
      ]
     },
     "execution_count": 12,
     "metadata": {},
     "output_type": "execute_result"
    }
   ],
   "source": [
    "## finding circle using segmentaion\n",
    "\n",
    "image = cv2.imread(\"img1.png\")\n",
    "gray = cv2.cvtColor(image, cv2.COLOR_BGR2GRAY)\n",
    "\n",
    "circles = cv2.HoughCircles(gray, cv2.HOUGH_GRADIENT, 1, 1000)\n",
    "circles = np.round(circles[0])\n",
    "for x,y,r in circles:\n",
    "    cv2.circle(image, (x,y), r, (0,0, 255), 3)\n",
    "cv2.imshow(\"image\", image)\n",
    "\n",
    "cv2.waitKey(0)"
   ]
  },
  {
   "cell_type": "code",
   "execution_count": 13,
   "metadata": {},
   "outputs": [
    {
     "data": {
      "text/plain": [
       "array([[172., 164., 115.]], dtype=float32)"
      ]
     },
     "execution_count": 13,
     "metadata": {},
     "output_type": "execute_result"
    }
   ],
   "source": [
    "circles"
   ]
  },
  {
   "cell_type": "code",
   "execution_count": 25,
   "metadata": {},
   "outputs": [
    {
     "data": {
      "text/plain": [
       "-1"
      ]
     },
     "execution_count": 25,
     "metadata": {},
     "output_type": "execute_result"
    }
   ],
   "source": [
    "## finding corners\n",
    "\n",
    "image = cv2.imread(\"corner.png\")\n",
    "gray = cv2.cvtColor(image, cv2.COLOR_BGR2GRAY)\n",
    "\n",
    "corners = cv2.goodFeaturesToTrack(gray, 100, 0.5, 50)\n",
    "corners=np.round(corners).astype('int')\n",
    "for corner in corners:\n",
    "    x,y = corner.ravel()\n",
    "    cv2.circle(image, (x,y), 3, (0,0,255),3)\n",
    "    \n",
    "cv2.imshow(\"image\", image)\n",
    "cv2.waitKey(0)"
   ]
  },
  {
   "cell_type": "code",
   "execution_count": 26,
   "metadata": {},
   "outputs": [
    {
     "data": {
      "text/plain": [
       "array([[[159, 170]],\n",
       "\n",
       "       [[157, 332]],\n",
       "\n",
       "       [[288, 168]],\n",
       "\n",
       "       [[ 10, 168]],\n",
       "\n",
       "       [[157,  39]]])"
      ]
     },
     "execution_count": 26,
     "metadata": {},
     "output_type": "execute_result"
    }
   ],
   "source": [
    "corners"
   ]
  },
  {
   "cell_type": "code",
   "execution_count": 3,
   "metadata": {},
   "outputs": [
    {
     "data": {
      "text/plain": [
       "-1"
      ]
     },
     "execution_count": 3,
     "metadata": {},
     "output_type": "execute_result"
    }
   ],
   "source": [
    "## image enhancement\n",
    "\n",
    "# sharpening \n",
    "\n",
    "cat_img = cv2.imread(\"cat.jpg\")\n",
    "kernel = np.array([[-1,9,10], [-1,9,-1], [-1,-1,-1]])\n",
    "\n",
    "sharpen = cv2.filter2D(cat_img, -1, kernel)\n",
    "cv2.imshow(\"sharpened\", sharpen)\n",
    "cv2.waitKey(0)"
   ]
  },
  {
   "cell_type": "code",
   "execution_count": 6,
   "metadata": {},
   "outputs": [
    {
     "data": {
      "text/plain": [
       "-1"
      ]
     },
     "execution_count": 6,
     "metadata": {},
     "output_type": "execute_result"
    }
   ],
   "source": [
    "## brightness increase\n",
    "\n",
    "kernel = np.ones(cat_img.shape, dtype = \"uint8\")*100\n",
    "bright = cv2.add(cat_img, kernel)\n",
    "cv2.imshow(\"bright\", bright)\n",
    "cv2.imshow(\"orginal\", cat_img)\n",
    "cv2.waitKey(0)"
   ]
  },
  {
   "cell_type": "code",
   "execution_count": 9,
   "metadata": {},
   "outputs": [
    {
     "data": {
      "text/plain": [
       "-1"
      ]
     },
     "execution_count": 9,
     "metadata": {},
     "output_type": "execute_result"
    }
   ],
   "source": [
    "# darkening\n",
    "dark = cv2.subtract(cat_img, kernel)\n",
    "cv2.imshow(\"dark\", dark)\n",
    "cv2.waitKey(0)"
   ]
  },
  {
   "cell_type": "code",
   "execution_count": 17,
   "metadata": {},
   "outputs": [
    {
     "data": {
      "text/plain": [
       "-1"
      ]
     },
     "execution_count": 17,
     "metadata": {},
     "output_type": "execute_result"
    }
   ],
   "source": [
    "# cropping \n",
    "\n",
    "crop = cat_img[100:200, 100:300]\n",
    "cv2.imshow(\"crop\", crop)\n",
    "cv2.waitKey(0)"
   ]
  },
  {
   "cell_type": "code",
   "execution_count": 23,
   "metadata": {},
   "outputs": [
    {
     "data": {
      "text/plain": [
       "-1"
      ]
     },
     "execution_count": 23,
     "metadata": {},
     "output_type": "execute_result"
    }
   ],
   "source": [
    "# bluring \n",
    "kernel = np.ones((5,5))/25\n",
    "blur = cv2.filter2D(cat_img, -1, kernel)\n",
    "cv2.imshow(\"blur\", blur)\n",
    "cv2.waitKey(0)"
   ]
  },
  {
   "cell_type": "code",
   "execution_count": 26,
   "metadata": {},
   "outputs": [
    {
     "data": {
      "text/plain": [
       "-1"
      ]
     },
     "execution_count": 26,
     "metadata": {},
     "output_type": "execute_result"
    }
   ],
   "source": [
    "# dilation: means adding pixcels on the boundary\n",
    "\n",
    "image = cv2.imread(\"raspberrypi.png\")\n",
    "image = cv2.resize(image, (640,480))\n",
    "kernel = np.ones((3,3))\n",
    "dilate = cv2.dilate(image, kernel,iterations = 2)\n",
    "cv2.imshow(\"dilated\", dilate)\n",
    "cv2.waitKey(0)"
   ]
  },
  {
   "cell_type": "code",
   "execution_count": 29,
   "metadata": {},
   "outputs": [
    {
     "data": {
      "text/plain": [
       "-1"
      ]
     },
     "execution_count": 29,
     "metadata": {},
     "output_type": "execute_result"
    }
   ],
   "source": [
    "# erosion: means removing pixcels from boundary area\n",
    "\n",
    "erode = cv2.erode(image, kernel, iterations = 2)\n",
    "cv2.imshow(\"erode\", erode)\n",
    "cv2.waitKey(0)"
   ]
  },
  {
   "cell_type": "code",
   "execution_count": 30,
   "metadata": {},
   "outputs": [
    {
     "data": {
      "text/plain": [
       "-1"
      ]
     },
     "execution_count": 30,
     "metadata": {},
     "output_type": "execute_result"
    }
   ],
   "source": [
    "# opening\n",
    "\n",
    "opening = cv2.morphologyEx(image, cv2.MORPH_OPEN, kernel, iterations = 2)\n",
    "cv2.imshow(\"opening\", opening)\n",
    "cv2.waitKey(0)"
   ]
  },
  {
   "cell_type": "code",
   "execution_count": 31,
   "metadata": {},
   "outputs": [
    {
     "data": {
      "text/plain": [
       "-1"
      ]
     },
     "execution_count": 31,
     "metadata": {},
     "output_type": "execute_result"
    }
   ],
   "source": [
    "#closing\n",
    "closing = cv2.morphologyEx(image, cv2.MORPH_CLOSE, kernel, iterations = 2)\n",
    "cv2.imshow(\"close\", closing)\n",
    "cv2.waitKey(0)"
   ]
  },
  {
   "cell_type": "code",
   "execution_count": null,
   "metadata": {},
   "outputs": [],
   "source": []
  }
 ],
 "metadata": {
  "kernelspec": {
   "display_name": "Python 3",
   "language": "python",
   "name": "python3"
  },
  "language_info": {
   "codemirror_mode": {
    "name": "ipython",
    "version": 3
   },
   "file_extension": ".py",
   "mimetype": "text/x-python",
   "name": "python",
   "nbconvert_exporter": "python",
   "pygments_lexer": "ipython3",
   "version": "3.6.10"
  }
 },
 "nbformat": 4,
 "nbformat_minor": 4
}
