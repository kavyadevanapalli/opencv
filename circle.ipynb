{
 "cells": [
  {
   "cell_type": "code",
   "execution_count": 1,
   "metadata": {},
   "outputs": [],
   "source": [
    "import cv2\n",
    "import numpy as np"
   ]
  },
  {
   "cell_type": "code",
   "execution_count": null,
   "metadata": {},
   "outputs": [],
   "source": [
    "cam=cv2.VideoCapture(0)\n",
    "font=cv2.FONT_HERSHEY_COMPLEX\n",
    "\n",
    "\n",
    "while True:\n",
    "    ret, frame=cam.read()\n",
    "    output = frame.copy()\n",
    "    gray = cv2.cvtColor(frame, cv2.COLOR_BGR2GRAY)\n",
    "    \n",
    "    try:\n",
    "        circles = cv2.HoughCircles(gray, cv2.HOUGH_GRADIENT,0.9, 100)\n",
    "        if circles is not None:\n",
    "            circles = np.round(circles[0,:])\n",
    "            for (x, y, r) in circles:\n",
    "                cv2.circle(output, (x, y), r, (0, 255, 0),2)        \n",
    "    except:\n",
    "        pass\n",
    "    \n",
    "    cv2.imshow('circle Detection',output)\n",
    "    key=cv2.waitKey(1)\n",
    "    if key==ord('q'):\n",
    "        break\n",
    "cam.release()\n",
    "cv2.destroyAllWindows()"
   ]
  },
  {
   "cell_type": "code",
   "execution_count": null,
   "metadata": {},
   "outputs": [],
   "source": []
  }
 ],
 "metadata": {
  "kernelspec": {
   "display_name": "Python 3",
   "language": "python",
   "name": "python3"
  },
  "language_info": {
   "codemirror_mode": {
    "name": "ipython",
    "version": 3
   },
   "file_extension": ".py",
   "mimetype": "text/x-python",
   "name": "python",
   "nbconvert_exporter": "python",
   "pygments_lexer": "ipython3",
   "version": "3.6.10"
  }
 },
 "nbformat": 4,
 "nbformat_minor": 2
}
